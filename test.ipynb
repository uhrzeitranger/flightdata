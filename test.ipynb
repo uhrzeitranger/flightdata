{
 "cells": [
  {
   "cell_type": "code",
   "execution_count": 306,
   "metadata": {},
   "outputs": [],
   "source": [
    "import time\n",
    "from selenium import webdriver\n",
    "from selenium.webdriver.common.by import By\n",
    "from selenium.webdriver.common.keys import Keys\n",
    "driver = webdriver.Chrome(\"/Applications/chromedriver\")\n"
   ]
  },
  {
   "cell_type": "code",
   "execution_count": 307,
   "metadata": {},
   "outputs": [],
   "source": [
    "driver.get(\"https://www.google.com/travel/flights\")"
   ]
  },
  {
   "cell_type": "code",
   "execution_count": 308,
   "metadata": {},
   "outputs": [],
   "source": [
    "# accept cookies\n",
    "driver.find_element(By.XPATH, \"/html/body/c-wiz/div/div/div/div[2]/div[1]/div[3]/div[1]/div[1]/form[2]/div/div/button\").click()"
   ]
  },
  {
   "cell_type": "code",
   "execution_count": 309,
   "metadata": {},
   "outputs": [],
   "source": [
    "# get to actual search mask\n",
    "\n",
    "# entering source\n",
    "input = driver.find_element(By.XPATH, \"/html/body/c-wiz[2]/div/div[2]/c-wiz/div[1]/c-wiz/div[2]/div[1]/div[1]/div[1]/div/div[2]/div[1]/div[1]/div/div/div[1]/div/div/input\")\n",
    "input.click()\n",
    "time.sleep(2)\n",
    "input.clear()\n",
    "input.send_keys(\"ZRH\")\n",
    "time.sleep(2)\n",
    "input.send_keys(Keys.RETURN)\n",
    "time.sleep(2)\n",
    "input = driver.find_element(By.XPATH, \"/html/body/c-wiz[2]/div/div[2]/c-wiz/div[1]/c-wiz/div[2]/div[1]/div[1]/div[1]/div/div[2]/div[1]/div[6]/div[3]/ul\")\n",
    "input.click()\n",
    "\n",
    "# entering destination\n",
    "input = driver.find_element(By.XPATH, \"/html/body/c-wiz[2]/div/div[2]/c-wiz/div[1]/c-wiz/div[2]/div[1]/div[1]/div[1]/div/div[2]/div[1]/div[4]/div/div/div[1]/div/div/input\")\n",
    "input.click()\n",
    "input = driver.find_element(By.XPATH, \"/html/body/c-wiz[2]/div/div[2]/c-wiz/div[1]/c-wiz/div[2]/div[1]/div[1]/div[1]/div/div[2]/div[1]/div[6]/div[2]/div[2]/div[1]/div/input\")\n",
    "input.clear()\n",
    "input.send_keys(\"FLR\")\n",
    "time.sleep(2)\n",
    "input.send_keys(Keys.RETURN)\n",
    "\n",
    "# press search\n",
    "driver.find_element(By.XPATH, \"/html/body/c-wiz[2]/div/div[2]/c-wiz/div[1]/c-wiz/div[2]/div[1]/div[1]/div[2]/div/button\").click()\n",
    "time.sleep(3)\n"
   ]
  },
  {
   "cell_type": "code",
   "execution_count": 311,
   "metadata": {},
   "outputs": [],
   "source": [
    "\n",
    "# setting the filters\n",
    "\n",
    "# stops\n",
    "driver.find_element(By.XPATH, \"/html/body/c-wiz[2]/div/div[2]/c-wiz/div[1]/c-wiz/div[2]/div[1]/div/div[4]/div/div/div[2]/div[1]/div/div[1]/span/button\").click()\n",
    "time.sleep(1)\n",
    "# only-non stop\n",
    "driver.find_element(By.XPATH, \"/html/body/c-wiz[2]/div/div[2]/c-wiz/div[1]/c-wiz/div[2]/div[1]/div/div[4]/div/div[2]/div[3]/div/div[1]/section/div[2]/div[1]/div/div/div[2]/div/input\").click()\n",
    "time.sleep(1)\n",
    "\n",
    "# times\n",
    "driver.find_element(By.XPATH, \"/html/body/c-wiz[2]/div/div[2]/c-wiz/div[1]/c-wiz/div[2]/div[1]/div/div[4]/div/div/div[2]/div[1]/div/div[5]/span/button\").click()\n",
    "# departure time\n",
    "input = driver.find_element(By.XPATH, \"/html/body/c-wiz[2]/div/div[2]/c-wiz/div[1]/c-wiz/div[2]/div[1]/div/div[4]/div/div[2]/div[3]/div/div[1]/section/div[2]/div[1]/div/div/div/div[2]/span/div/div[2]/div/div[2]/div/div/input[1]\")\n",
    "for i in range(16):\n",
    "    input.send_keys(Keys.ARROW_RIGHT)\n",
    "time.sleep(3)\n",
    "\n",
    "# return time\n",
    "driver.find_element(By.XPATH, \"/html/body/c-wiz[2]/div/div[2]/c-wiz/div[1]/c-wiz/div[2]/div[1]/div/div[4]/div/div[2]/div[3]/div/div[1]/section/div[2]/div[1]/div/div/div/div[1]/div/div/span/button[2]\").click()\n",
    "time.sleep(1)\n",
    "input = driver.find_element(By.XPATH, \"/html/body/c-wiz[2]/div/div[2]/c-wiz/div[1]/c-wiz/div[2]/div[1]/div/div[4]/div/div[2]/div[3]/div/div[1]/section/div[2]/div[1]/div/div/div/div[3]/span/div/div[2]/div/div[2]/div/div/input[1]\")\n",
    "for i in range(17):\n",
    "    input.send_keys(Keys.ARROW_RIGHT)\n",
    "input.send_keys(Keys.ESCAPE)\n"
   ]
  },
  {
   "cell_type": "code",
   "execution_count": null,
   "metadata": {},
   "outputs": [],
   "source": []
  }
 ],
 "metadata": {
  "kernelspec": {
   "display_name": "Python 3.10.4 ('flightdata')",
   "language": "python",
   "name": "python3"
  },
  "language_info": {
   "codemirror_mode": {
    "name": "ipython",
    "version": 3
   },
   "file_extension": ".py",
   "mimetype": "text/x-python",
   "name": "python",
   "nbconvert_exporter": "python",
   "pygments_lexer": "ipython3",
   "version": "3.10.4"
  },
  "orig_nbformat": 4,
  "vscode": {
   "interpreter": {
    "hash": "f7384ae4900e7aec8308d29f4bd970c95598604aaa61ee56cff03f20e34eedac"
   }
  }
 },
 "nbformat": 4,
 "nbformat_minor": 2
}
