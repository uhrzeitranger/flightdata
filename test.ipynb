{
 "cells": [
  {
   "cell_type": "code",
   "execution_count": 21,
   "metadata": {},
   "outputs": [],
   "source": [
    "import time\n",
    "import datetime\n",
    "import re\n",
    "from selenium import webdriver\n",
    "from selenium.webdriver.common.by import By\n",
    "from selenium.webdriver.common.keys import Keys\n",
    "from selenium.webdriver.support.ui import WebDriverWait\n",
    "from selenium.webdriver.support import expected_conditions as EC\n"
   ]
  },
  {
   "cell_type": "code",
   "execution_count": 42,
   "metadata": {},
   "outputs": [],
   "source": [
    "# auxiliary functions\n",
    "\n",
    "def navigate_to_main_search_mask(driver,departure=\"ZRH\",destination=\"FLR\"):\n",
    "    input_from = driver.find_element(By.XPATH, \"/html/body/c-wiz[2]/div/div[2]/c-wiz/div[1]/c-wiz/div[2]/div[1]/div[1]/div[1]/div/div[2]/div[1]/div[1]/div/div/div[1]/div/div/input\")\n",
    "    input_from.click()\n",
    "    input_w_dropdown_from = WebDriverWait(driver,5).until(EC.presence_of_element_located((By.XPATH, \"/html/body/c-wiz[2]/div/div[2]/c-wiz/div[1]/c-wiz/div[2]/div[1]/div[1]/div[1]/div/div[2]/div[1]/div[6]/div[2]/div[2]/div[1]/div/input\")))\n",
    "    time.sleep(0.5)\n",
    "    input_w_dropdown_from.clear()\n",
    "    input_w_dropdown_from.send_keys(departure)\n",
    "    time.sleep(1) # load js\n",
    "    input_w_dropdown_from.send_keys(Keys.RETURN)\n",
    "\n",
    "    # entering destination\n",
    "    input_to = driver.find_element(By.XPATH, \"/html/body/c-wiz[2]/div/div[2]/c-wiz/div[1]/c-wiz/div[2]/div[1]/div[1]/div[1]/div/div[2]/div[1]/div[4]/div/div/div[1]/div/div/input\")\n",
    "    input_to.click()\n",
    "    input_w_dropdown_to = WebDriverWait(driver,5).until(EC.presence_of_element_located((By.XPATH, \"/html/body/c-wiz[2]/div/div[2]/c-wiz/div[1]/c-wiz/div[2]/div[1]/div[1]/div[1]/div/div[2]/div[1]/div[6]/div[2]/div[2]/div[1]/div/input\")))\n",
    "    input_w_dropdown_to.send_keys(destination)\n",
    "    time.sleep(1.5) # load js\n",
    "    input_w_dropdown_to.send_keys(Keys.RETURN)\n",
    "\n",
    "    # press search\n",
    "    driver.find_element(By.XPATH, \"/html/body/c-wiz[2]/div/div[2]/c-wiz/div[1]/c-wiz/div[2]/div[1]/div[1]/div[2]/div/button\").click()\n",
    "\n",
    "\n",
    "def set_filters(driver, time_out, time_in):\n",
    "    # stops\n",
    "    driver.find_element(By.XPATH, \"/html/body/c-wiz[2]/div/div[2]/c-wiz/div[1]/c-wiz/div[2]/div[1]/div/div[4]/div/div/div[2]/div[1]/div/div[1]/span/button\").click()\n",
    "    non_stop_option = WebDriverWait(driver,5).until(EC.presence_of_element_located((By.XPATH, \"/html/body/c-wiz[2]/div/div[2]/c-wiz/div[1]/c-wiz/div[2]/div[1]/div/div[4]/div/div[2]/div[3]/div/div[1]/section/div[2]/div[1]/div/div/div[2]/div/input\")))\n",
    "    non_stop_option.click()\n",
    "    time.sleep(1)\n",
    "\n",
    "    # outbound \n",
    "    driver.find_element(By.XPATH, \"/html/body/c-wiz[2]/div/div[2]/c-wiz/div[1]/c-wiz/div[2]/div[1]/div/div[4]/div/div/div[2]/div[1]/div/div[5]/span/button\").click()\n",
    "    # departure time\n",
    "    outbound_dep_time_drag = driver.find_element(By.XPATH, \"/html/body/c-wiz[2]/div/div[2]/c-wiz/div[1]/c-wiz/div[2]/div[1]/div/div[4]/div/div[2]/div[3]/div/div[1]/section/div[2]/div[1]/div/div/div/div[2]/span/div/div[2]/div/div[2]/div/div/input[1]\")\n",
    "    for i in range(time_out):\n",
    "        outbound_dep_time_drag.send_keys(Keys.ARROW_RIGHT)\n",
    "    time.sleep(1)\n",
    "\n",
    "    # inbound\n",
    "    driver.find_element(By.XPATH, \"/html/body/c-wiz[2]/div/div[2]/c-wiz/div[1]/c-wiz/div[2]/div[1]/div/div[4]/div/div[2]/div[3]/div/div[1]/section/div[2]/div[1]/div/div/div/div[1]/div/div/span/button[2]\").click()\n",
    "    # departure time\n",
    "    inbound_dep_time_drag = driver.find_element(By.XPATH, \"/html/body/c-wiz[2]/div/div[2]/c-wiz/div[1]/c-wiz/div[2]/div[1]/div/div[4]/div/div[2]/div[3]/div/div[1]/section/div[2]/div[1]/div/div/div/div[3]/span/div/div[2]/div/div[2]/div/div/input[1]\")\n",
    "    for i in range(time_in):\n",
    "        inbound_dep_time_drag.send_keys(Keys.ARROW_RIGHT)\n",
    "    time.sleep(1)\n",
    "    inbound_dep_time_drag.send_keys(Keys.ESCAPE)\n",
    "\n",
    "def get_flight_dates(day_out,day_in,months=6):\n",
    "    days = [\"Mo\",\"Tu\",\"We\",\"Th\",\"Fr\",\"Sa\",\"Su\"]\n",
    "    nrs = [0,1,2,3,4,5,6]\n",
    "    day_nrs = dict(zip(days,nrs))\n",
    "    day_date = datetime.date.today() + datetime.timedelta( (day_nrs[day_out]-datetime.date.today().weekday()) % 7 )\n",
    "    format =\"%a, %b %d\"\n",
    "\n",
    "    dates = [(day_date.strftime(format),(day_date + datetime.timedelta((day_nrs[day_in]-day_nrs[day_out]) % 7)).strftime(format))]\n",
    "\n",
    "    for _ in range((4*months)-1):\n",
    "        day_date += datetime.timedelta(7)\n",
    "        dates.append((day_date.strftime(format),(day_date+datetime.timedelta((day_nrs[day_in]-day_nrs[day_out]) % 7)).strftime(format)))\n",
    "    return dates\n",
    "\n",
    "def get_currency(driver):\n",
    "    currency_text = driver.find_element(By.XPATH,\"/html/body/c-wiz[2]/div/div[2]/c-wiz/div[1]/c-wiz/div[2]/div[4]/c-wiz/footer/div[1]/c-wiz/button[3]/span/span[2]\").text\n",
    "    currencies = {\"GBP\":\"£\",\"EUR\":\"€\",\"CHF\":\"CHF&nbsp;\"}\n",
    "    return currencies[currency_text]\n",
    "    \n",
    "\n",
    "def fetch_prices(driver, fridays):\n",
    "    # TODO: write this as a method of a class\n",
    "    prices = {}\n",
    "    for fr, su in fridays[:8]:\n",
    "        print(fr)\n",
    "        from_time = WebDriverWait(driver,3).until(EC.presence_of_element_located((By.XPATH, \"/html/body/c-wiz[2]/div/div[2]/c-wiz/div[1]/c-wiz/div[2]/div[1]/div/div[2]/div[2]/div/div/div[1]/div/div/div[1]/div/div[1]/div/div[1]\")))\n",
    "        from_time.click()\n",
    "        time.sleep(2)\n",
    "        from_time_w_calendar = WebDriverWait(driver,3).until(EC.presence_of_element_located((By.XPATH, \"/html/body/c-wiz[2]/div/div[2]/c-wiz/div[1]/c-wiz/div[2]/div[1]/div/div[2]/div[2]/div/div/div[2]/div/div[2]/div[1]/div[1]/div[1]/div/input\")))\n",
    "        from_time_w_calendar.send_keys(fr, Keys.TAB)\n",
    "        time.sleep(1)\n",
    "        to_time = driver.switch_to.active_element\n",
    "        to_time.send_keys(su)\n",
    "        time.sleep(1)\n",
    "        done_button = WebDriverWait(driver,2).until(EC.presence_of_element_located((By.XPATH, \"/html/body/c-wiz[2]/div/div[2]/c-wiz/div[1]/c-wiz/div[2]/div[1]/div/div[2]/div[2]/div/div/div[2]/div/div[3]/div[3]/div/button\")))\n",
    "        done_button.click()\n",
    "        time.sleep(0.5)\n",
    "        li_children = WebDriverWait(driver,3).until(EC.presence_of_all_elements_located((By.XPATH, \"/html/body/c-wiz[2]/div/div[2]/c-wiz/div[1]/c-wiz/div[2]/div[2]/div[3]/ul/li\")))\n",
    "        currency_mask = get_currency(driver)\n",
    "        if len(li_children):\n",
    "            all_prices = []\n",
    "            for i in li_children:\n",
    "                price = re.search(rf'.*?{currency_mask}(.*?)\\n.*', i.text).group(1).replace(\",\",\"\")\n",
    "                all_prices.append(int(price))\n",
    "            prices[fr] = min(all_prices)\n",
    "    return prices\n"
   ]
  },
  {
   "cell_type": "code",
   "execution_count": 23,
   "metadata": {},
   "outputs": [
    {
     "name": "stderr",
     "output_type": "stream",
     "text": [
      "/var/folders/8h/w0qc309n5938czdv5jlcp85m0000gn/T/ipykernel_3030/4120686055.py:1: DeprecationWarning: executable_path has been deprecated, please pass in a Service object\n",
      "  driver = webdriver.Chrome(\"/Applications/chromedriver\")\n"
     ]
    }
   ],
   "source": [
    "driver = webdriver.Chrome(\"/Applications/chromedriver\")\n",
    "\n",
    "driver.get(\"https://www.google.com/travel/flights\")"
   ]
  },
  {
   "cell_type": "code",
   "execution_count": 24,
   "metadata": {},
   "outputs": [],
   "source": [
    "# accept cookies\n",
    "driver.find_element(By.XPATH, \"/html/body/c-wiz/div/div/div/div[2]/div[1]/div[3]/div[1]/div[1]/form[2]/div/div/button\").click()"
   ]
  },
  {
   "cell_type": "code",
   "execution_count": 25,
   "metadata": {},
   "outputs": [],
   "source": [
    "navigate_to_main_search_mask(driver,departure=\"London\",destination=\"BER\")"
   ]
  },
  {
   "cell_type": "code",
   "execution_count": 27,
   "metadata": {},
   "outputs": [],
   "source": [
    "set_filters(driver,time_out=11,time_in=17)"
   ]
  },
  {
   "cell_type": "code",
   "execution_count": 39,
   "metadata": {},
   "outputs": [
    {
     "data": {
      "text/plain": [
       "[('Sun, Oct 02', 'Mon, Oct 03'),\n",
       " ('Sun, Oct 09', 'Mon, Oct 10'),\n",
       " ('Sun, Oct 16', 'Mon, Oct 17'),\n",
       " ('Sun, Oct 23', 'Mon, Oct 24')]"
      ]
     },
     "execution_count": 39,
     "metadata": {},
     "output_type": "execute_result"
    }
   ],
   "source": [
    "get_flight_dates(\"Su\",\"Mo\",months=1)"
   ]
  },
  {
   "cell_type": "code",
   "execution_count": 40,
   "metadata": {},
   "outputs": [
    {
     "data": {
      "text/plain": [
       "'£'"
      ]
     },
     "execution_count": 40,
     "metadata": {},
     "output_type": "execute_result"
    }
   ],
   "source": [
    "get_currency(driver)"
   ]
  },
  {
   "cell_type": "code",
   "execution_count": 43,
   "metadata": {},
   "outputs": [
    {
     "name": "stdout",
     "output_type": "stream",
     "text": [
      "Sun, Oct 02\n",
      "Sun, Oct 09\n",
      "Sun, Oct 16\n",
      "Sun, Oct 23\n"
     ]
    }
   ],
   "source": [
    "p = fetch_prices(driver,get_flight_dates(\"Su\",\"Fr\",months=1))"
   ]
  },
  {
   "cell_type": "code",
   "execution_count": 14,
   "metadata": {},
   "outputs": [
    {
     "name": "stdout",
     "output_type": "stream",
     "text": [
      "{'Thu, Sep 29': 605, 'Thu, Oct 06': 444, 'Thu, Oct 13': 444, 'Thu, Oct 20': 350}\n"
     ]
    }
   ],
   "source": [
    "from pprint import pprint\n",
    "\n",
    "pprint(p,sort_dicts=False)"
   ]
  },
  {
   "cell_type": "code",
   "execution_count": null,
   "metadata": {},
   "outputs": [],
   "source": []
  }
 ],
 "metadata": {
  "kernelspec": {
   "display_name": "Python 3.10.2 ('webscrape')",
   "language": "python",
   "name": "python3"
  },
  "language_info": {
   "codemirror_mode": {
    "name": "ipython",
    "version": 3
   },
   "file_extension": ".py",
   "mimetype": "text/x-python",
   "name": "python",
   "nbconvert_exporter": "python",
   "pygments_lexer": "ipython3",
   "version": "3.10.2"
  },
  "orig_nbformat": 4,
  "vscode": {
   "interpreter": {
    "hash": "8748fa3adf89563ce75e411d0790d974bab8b607f4e75f863ced887909cfd019"
   }
  }
 },
 "nbformat": 4,
 "nbformat_minor": 2
}
