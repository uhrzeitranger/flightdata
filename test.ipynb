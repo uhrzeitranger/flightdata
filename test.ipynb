{
 "cells": [
  {
   "cell_type": "code",
   "execution_count": 57,
   "metadata": {},
   "outputs": [],
   "source": [
    "import time\n",
    "import datetime\n",
    "import re\n",
    "from selenium import webdriver\n",
    "from selenium.webdriver.common.by import By\n",
    "from selenium.webdriver.common.keys import Keys\n",
    "from selenium.webdriver.support.ui import WebDriverWait\n",
    "from selenium.webdriver.support import expected_conditions as EC\n"
   ]
  },
  {
   "cell_type": "code",
   "execution_count": 81,
   "metadata": {},
   "outputs": [],
   "source": [
    "# auxiliary functions\n",
    "\n",
    "def navigate_to_main_search_mask(driver,departure=\"ZRH\",destination=\"FLR\"):\n",
    "    input_from = driver.find_element(By.XPATH, \"/html/body/c-wiz[2]/div/div[2]/c-wiz/div[1]/c-wiz/div[2]/div[1]/div[1]/div[1]/div/div[2]/div[1]/div[1]/div/div/div[1]/div/div/input\")\n",
    "    input_from.click()\n",
    "    input_w_dropdown_from = WebDriverWait(driver,5).until(EC.presence_of_element_located((By.XPATH, \"/html/body/c-wiz[2]/div/div[2]/c-wiz/div[1]/c-wiz/div[2]/div[1]/div[1]/div[1]/div/div[2]/div[1]/div[6]/div[2]/div[2]/div[1]/div/input\")))\n",
    "    time.sleep(0.5)\n",
    "    input_w_dropdown_from.clear()\n",
    "    input_w_dropdown_from.send_keys(departure)\n",
    "    time.sleep(1) # load js\n",
    "    input_w_dropdown_from.send_keys(Keys.RETURN)\n",
    "\n",
    "    # entering destination\n",
    "    input_to = driver.find_element(By.XPATH, \"/html/body/c-wiz[2]/div/div[2]/c-wiz/div[1]/c-wiz/div[2]/div[1]/div[1]/div[1]/div/div[2]/div[1]/div[4]/div/div/div[1]/div/div/input\")\n",
    "    input_to.click()\n",
    "    input_w_dropdown_to = WebDriverWait(driver,5).until(EC.presence_of_element_located((By.XPATH, \"/html/body/c-wiz[2]/div/div[2]/c-wiz/div[1]/c-wiz/div[2]/div[1]/div[1]/div[1]/div/div[2]/div[1]/div[6]/div[2]/div[2]/div[1]/div/input\")))\n",
    "    input_w_dropdown_to.send_keys(destination)\n",
    "    time.sleep(1.5) # load js\n",
    "    input_w_dropdown_to.send_keys(Keys.RETURN)\n",
    "\n",
    "    # press search\n",
    "    driver.find_element(By.XPATH, \"/html/body/c-wiz[2]/div/div[2]/c-wiz/div[1]/c-wiz/div[2]/div[1]/div[1]/div[2]/div/button\").click()\n",
    "\n",
    "\n",
    "def set_filters(driver):\n",
    "    # stops\n",
    "    driver.find_element(By.XPATH, \"/html/body/c-wiz[2]/div/div[2]/c-wiz/div[1]/c-wiz/div[2]/div[1]/div/div[4]/div/div/div[2]/div[1]/div/div[1]/span/button\").click()\n",
    "    non_stop_option = WebDriverWait(driver,5).until(EC.presence_of_element_located((By.XPATH, \"/html/body/c-wiz[2]/div/div[2]/c-wiz/div[1]/c-wiz/div[2]/div[1]/div/div[4]/div/div[2]/div[3]/div/div[1]/section/div[2]/div[1]/div/div/div[2]/div/input\")))\n",
    "    non_stop_option.click()\n",
    "    time.sleep(1)\n",
    "\n",
    "    # outbound \n",
    "    driver.find_element(By.XPATH, \"/html/body/c-wiz[2]/div/div[2]/c-wiz/div[1]/c-wiz/div[2]/div[1]/div/div[4]/div/div/div[2]/div[1]/div/div[5]/span/button\").click()\n",
    "    # departure time\n",
    "    outbound_dep_time_drag = driver.find_element(By.XPATH, \"/html/body/c-wiz[2]/div/div[2]/c-wiz/div[1]/c-wiz/div[2]/div[1]/div/div[4]/div/div[2]/div[3]/div/div[1]/section/div[2]/div[1]/div/div/div/div[2]/span/div/div[2]/div/div[2]/div/div/input[1]\")\n",
    "    for i in range(16):\n",
    "        outbound_dep_time_drag.send_keys(Keys.ARROW_RIGHT)\n",
    "    time.sleep(1)\n",
    "\n",
    "    # inbound\n",
    "    driver.find_element(By.XPATH, \"/html/body/c-wiz[2]/div/div[2]/c-wiz/div[1]/c-wiz/div[2]/div[1]/div/div[4]/div/div[2]/div[3]/div/div[1]/section/div[2]/div[1]/div/div/div/div[1]/div/div/span/button[2]\").click()\n",
    "    # departure time\n",
    "    inbound_dep_time_drag = driver.find_element(By.XPATH, \"/html/body/c-wiz[2]/div/div[2]/c-wiz/div[1]/c-wiz/div[2]/div[1]/div/div[4]/div/div[2]/div[3]/div/div[1]/section/div[2]/div[1]/div/div/div/div[3]/span/div/div[2]/div/div[2]/div/div/input[1]\")\n",
    "    for i in range(17):\n",
    "        inbound_dep_time_drag.send_keys(Keys.ARROW_RIGHT)\n",
    "    time.sleep(1)\n",
    "    inbound_dep_time_drag.send_keys(Keys.ESCAPE)\n",
    "\n",
    "def get_fridays(start_date = datetime.date.today(),months=6):\n",
    "    friday = start_date + datetime.timedelta( (4-start_date.weekday()) % 7 )\n",
    "    format =\"%a, %b %d\"\n",
    "\n",
    "    fridays = [(friday.strftime(format),(friday + datetime.timedelta(2)).strftime(format))]\n",
    "\n",
    "    for _ in range((4*months)-1):\n",
    "        friday += datetime.timedelta(7)\n",
    "        fridays.append((friday.strftime(format),(friday+datetime.timedelta(2)).strftime(format)))\n",
    "    return fridays\n",
    "\n",
    "def fetch_prices(driver, fridays,currency_mask=\"€\"):\n",
    "    # TODO: write this as a method of a class\n",
    "    prices = {}\n",
    "    for fr, su in fridays[:8]:\n",
    "        print(fr)\n",
    "        from_time = WebDriverWait(driver,3).until(EC.presence_of_element_located((By.XPATH, \"/html/body/c-wiz[2]/div/div[2]/c-wiz/div[1]/c-wiz/div[2]/div[1]/div/div[2]/div[2]/div/div/div[1]/div/div/div[1]/div/div[1]/div/div[1]\")))\n",
    "        from_time.click()\n",
    "        time.sleep(2)\n",
    "        from_time_w_calendar = WebDriverWait(driver,3).until(EC.presence_of_element_located((By.XPATH, \"/html/body/c-wiz[2]/div/div[2]/c-wiz/div[1]/c-wiz/div[2]/div[1]/div/div[2]/div[2]/div/div/div[2]/div/div[2]/div[1]/div[1]/div[1]/div/input\")))\n",
    "        from_time_w_calendar.send_keys(fr, Keys.TAB)\n",
    "        time.sleep(1)\n",
    "        to_time = driver.switch_to.active_element\n",
    "        to_time.send_keys(su)\n",
    "        time.sleep(1)\n",
    "        done_button = WebDriverWait(driver,2).until(EC.presence_of_element_located((By.XPATH, \"/html/body/c-wiz[2]/div/div[2]/c-wiz/div[1]/c-wiz/div[2]/div[1]/div/div[2]/div[2]/div/div/div[2]/div/div[3]/div[3]/div/button\")))\n",
    "        done_button.click()\n",
    "        time.sleep(0.5)\n",
    "        li_children = WebDriverWait(driver,3).until(EC.presence_of_all_elements_located((By.XPATH, \"/html/body/c-wiz[2]/div/div[2]/c-wiz/div[1]/c-wiz/div[2]/div[2]/div[3]/ul/li\")))\n",
    "        if len(li_children):\n",
    "            all_prices = []\n",
    "            for i in li_children:\n",
    "                # NOTE: This is for CHF - adjust for different settings, with more sophisticated reg ex matching\n",
    "                price = re.search(rf'.*?{currency_mask}(.*?)\\n.*', i.text).group(1)\n",
    "                all_prices.append(int(price))\n",
    "            prices[fr] = min(all_prices)\n",
    "    return prices\n"
   ]
  },
  {
   "cell_type": "code",
   "execution_count": 87,
   "metadata": {},
   "outputs": [
    {
     "name": "stderr",
     "output_type": "stream",
     "text": [
      "/var/folders/8h/w0qc309n5938czdv5jlcp85m0000gn/T/ipykernel_23115/4120686055.py:1: DeprecationWarning: executable_path has been deprecated, please pass in a Service object\n",
      "  driver = webdriver.Chrome(\"/Applications/chromedriver\")\n"
     ]
    }
   ],
   "source": [
    "driver = webdriver.Chrome(\"/Applications/chromedriver\")\n",
    "\n",
    "driver.get(\"https://www.google.com/travel/flights\")"
   ]
  },
  {
   "cell_type": "code",
   "execution_count": 88,
   "metadata": {},
   "outputs": [],
   "source": [
    "# accept cookies\n",
    "driver.find_element(By.XPATH, \"/html/body/c-wiz/div/div/div/div[2]/div[1]/div[3]/div[1]/div[1]/form[2]/div/div/button\").click()"
   ]
  },
  {
   "cell_type": "code",
   "execution_count": 89,
   "metadata": {},
   "outputs": [],
   "source": [
    "navigate_to_main_search_mask(driver)"
   ]
  },
  {
   "cell_type": "code",
   "execution_count": 90,
   "metadata": {},
   "outputs": [],
   "source": [
    "set_filters(driver)"
   ]
  },
  {
   "cell_type": "code",
   "execution_count": 86,
   "metadata": {},
   "outputs": [
    {
     "name": "stdout",
     "output_type": "stream",
     "text": [
      "Fri, Sep 23\n",
      "Fri, Sep 30\n"
     ]
    },
    {
     "ename": "KeyboardInterrupt",
     "evalue": "",
     "output_type": "error",
     "traceback": [
      "\u001b[0;31m---------------------------------------------------------------------------\u001b[0m",
      "\u001b[0;31mKeyboardInterrupt\u001b[0m                         Traceback (most recent call last)",
      "\u001b[1;32m/Users/lasse/PycharmProjects/Selenium/flights/flightdata/test.ipynb Cell 7\u001b[0m in \u001b[0;36m<cell line: 1>\u001b[0;34m()\u001b[0m\n\u001b[0;32m----> <a href='vscode-notebook-cell:/Users/lasse/PycharmProjects/Selenium/flights/flightdata/test.ipynb#X23sZmlsZQ%3D%3D?line=0'>1</a>\u001b[0m fetch_prices(driver,get_fridays())\n",
      "\u001b[1;32m/Users/lasse/PycharmProjects/Selenium/flights/flightdata/test.ipynb Cell 7\u001b[0m in \u001b[0;36mfetch_prices\u001b[0;34m(driver, fridays, currency_mask)\u001b[0m\n\u001b[1;32m     <a href='vscode-notebook-cell:/Users/lasse/PycharmProjects/Selenium/flights/flightdata/test.ipynb#X23sZmlsZQ%3D%3D?line=73'>74</a>\u001b[0m done_button \u001b[39m=\u001b[39m WebDriverWait(driver,\u001b[39m2\u001b[39m)\u001b[39m.\u001b[39muntil(EC\u001b[39m.\u001b[39mpresence_of_element_located((By\u001b[39m.\u001b[39mXPATH, \u001b[39m\"\u001b[39m\u001b[39m/html/body/c-wiz[2]/div/div[2]/c-wiz/div[1]/c-wiz/div[2]/div[1]/div/div[2]/div[2]/div/div/div[2]/div/div[3]/div[3]/div/button\u001b[39m\u001b[39m\"\u001b[39m)))\n\u001b[1;32m     <a href='vscode-notebook-cell:/Users/lasse/PycharmProjects/Selenium/flights/flightdata/test.ipynb#X23sZmlsZQ%3D%3D?line=74'>75</a>\u001b[0m done_button\u001b[39m.\u001b[39mclick()\n\u001b[0;32m---> <a href='vscode-notebook-cell:/Users/lasse/PycharmProjects/Selenium/flights/flightdata/test.ipynb#X23sZmlsZQ%3D%3D?line=75'>76</a>\u001b[0m time\u001b[39m.\u001b[39;49msleep(\u001b[39m0.5\u001b[39;49m)\n\u001b[1;32m     <a href='vscode-notebook-cell:/Users/lasse/PycharmProjects/Selenium/flights/flightdata/test.ipynb#X23sZmlsZQ%3D%3D?line=76'>77</a>\u001b[0m li_children \u001b[39m=\u001b[39m WebDriverWait(driver,\u001b[39m3\u001b[39m)\u001b[39m.\u001b[39muntil(EC\u001b[39m.\u001b[39mpresence_of_all_elements_located((By\u001b[39m.\u001b[39mXPATH, \u001b[39m\"\u001b[39m\u001b[39m/html/body/c-wiz[2]/div/div[2]/c-wiz/div[1]/c-wiz/div[2]/div[2]/div[3]/ul/li\u001b[39m\u001b[39m\"\u001b[39m)))\n\u001b[1;32m     <a href='vscode-notebook-cell:/Users/lasse/PycharmProjects/Selenium/flights/flightdata/test.ipynb#X23sZmlsZQ%3D%3D?line=77'>78</a>\u001b[0m \u001b[39mif\u001b[39;00m \u001b[39mlen\u001b[39m(li_children):\n",
      "\u001b[0;31mKeyboardInterrupt\u001b[0m: "
     ]
    }
   ],
   "source": [
    "fetch_prices(driver,get_fridays())"
   ]
  },
  {
   "cell_type": "code",
   "execution_count": null,
   "metadata": {},
   "outputs": [],
   "source": []
  }
 ],
 "metadata": {
  "kernelspec": {
   "display_name": "Python 3.10.2 ('webscrape')",
   "language": "python",
   "name": "python3"
  },
  "language_info": {
   "codemirror_mode": {
    "name": "ipython",
    "version": 3
   },
   "file_extension": ".py",
   "mimetype": "text/x-python",
   "name": "python",
   "nbconvert_exporter": "python",
   "pygments_lexer": "ipython3",
   "version": "3.10.2"
  },
  "orig_nbformat": 4,
  "vscode": {
   "interpreter": {
    "hash": "8748fa3adf89563ce75e411d0790d974bab8b607f4e75f863ced887909cfd019"
   }
  }
 },
 "nbformat": 4,
 "nbformat_minor": 2
}
