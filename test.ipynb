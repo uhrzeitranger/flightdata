{
 "cells": [
  {
   "cell_type": "code",
   "execution_count": 15,
   "metadata": {},
   "outputs": [
    {
     "name": "stderr",
     "output_type": "stream",
     "text": [
      "/var/folders/8h/w0qc309n5938czdv5jlcp85m0000gn/T/ipykernel_23115/3510214471.py:9: DeprecationWarning: executable_path has been deprecated, please pass in a Service object\n",
      "  driver = webdriver.Chrome(\"/Applications/chromedriver\")\n"
     ]
    }
   ],
   "source": [
    "import time\n",
    "import datetime\n",
    "import re\n",
    "from selenium import webdriver\n",
    "from selenium.webdriver.common.by import By\n",
    "from selenium.webdriver.common.keys import Keys\n",
    "from selenium.webdriver.support.ui import WebDriverWait\n",
    "from selenium.webdriver.support import expected_conditions as EC\n"
   ]
  },
  {
   "cell_type": "code",
   "execution_count": 22,
   "metadata": {},
   "outputs": [
    {
     "name": "stderr",
     "output_type": "stream",
     "text": [
      "/var/folders/8h/w0qc309n5938czdv5jlcp85m0000gn/T/ipykernel_23115/4120686055.py:1: DeprecationWarning: executable_path has been deprecated, please pass in a Service object\n",
      "  driver = webdriver.Chrome(\"/Applications/chromedriver\")\n"
     ]
    }
   ],
   "source": [
    "driver = webdriver.Chrome(\"/Applications/chromedriver\")\n",
    "\n",
    "driver.get(\"https://www.google.com/travel/flights\")"
   ]
  },
  {
   "cell_type": "code",
   "execution_count": 31,
   "metadata": {},
   "outputs": [
    {
     "ename": "WebDriverException",
     "evalue": "Message: chrome not reachable\n  (Session info: chrome=105.0.5195.125)\nStacktrace:\n0   chromedriver                        0x000000010f967788 chromedriver + 4515720\n1   chromedriver                        0x000000010f8eb9d3 chromedriver + 4008403\n2   chromedriver                        0x000000010f57dfeb chromedriver + 413675\n3   chromedriver                        0x000000010f56dd92 chromedriver + 347538\n4   chromedriver                        0x000000010f55f101 chromedriver + 286977\n5   chromedriver                        0x000000010f563d4d chromedriver + 306509\n6   chromedriver                        0x000000010f568e7c chromedriver + 327292\n7   chromedriver                        0x000000010f57f6b2 chromedriver + 419506\n8   chromedriver                        0x000000010f5e5221 chromedriver + 836129\n9   chromedriver                        0x000000010f5d2603 chromedriver + 759299\n10  chromedriver                        0x000000010f5a8990 chromedriver + 588176\n11  chromedriver                        0x000000010f5a9a75 chromedriver + 592501\n12  chromedriver                        0x000000010f9376cd chromedriver + 4318925\n13  chromedriver                        0x000000010f93bf35 chromedriver + 4337461\n14  chromedriver                        0x000000010f9431ff chromedriver + 4366847\n15  chromedriver                        0x000000010f93cc5a chromedriver + 4340826\n16  chromedriver                        0x000000010f912c2c chromedriver + 4168748\n17  chromedriver                        0x000000010f9594f8 chromedriver + 4457720\n18  chromedriver                        0x000000010f959693 chromedriver + 4458131\n19  chromedriver                        0x000000010f96ea3e chromedriver + 4545086\n20  libsystem_pthread.dylib             0x00007ff81ec0f4e1 _pthread_start + 125\n21  libsystem_pthread.dylib             0x00007ff81ec0af6b thread_start + 15\n",
     "output_type": "error",
     "traceback": [
      "\u001b[0;31m---------------------------------------------------------------------------\u001b[0m",
      "\u001b[0;31mWebDriverException\u001b[0m                        Traceback (most recent call last)",
      "\u001b[1;32m/Users/lasse/PycharmProjects/Selenium/flights/flightdata/test.ipynb Cell 3\u001b[0m in \u001b[0;36m<cell line: 2>\u001b[0;34m()\u001b[0m\n\u001b[1;32m      <a href='vscode-notebook-cell:/Users/lasse/PycharmProjects/Selenium/flights/flightdata/test.ipynb#W2sZmlsZQ%3D%3D?line=0'>1</a>\u001b[0m \u001b[39m# accept cookies\u001b[39;00m\n\u001b[0;32m----> <a href='vscode-notebook-cell:/Users/lasse/PycharmProjects/Selenium/flights/flightdata/test.ipynb#W2sZmlsZQ%3D%3D?line=1'>2</a>\u001b[0m driver\u001b[39m.\u001b[39;49mfind_element(By\u001b[39m.\u001b[39;49mXPATH, \u001b[39m\"\u001b[39;49m\u001b[39m/html/body/c-wiz/div/div/div/div[2]/div[1]/div[3]/div[1]/div[1]/form[2]/div/div/button\u001b[39;49m\u001b[39m\"\u001b[39;49m)\u001b[39m.\u001b[39mclick()\n",
      "File \u001b[0;32m~/miniconda3/envs/webscrape/lib/python3.10/site-packages/selenium/webdriver/remote/webdriver.py:1244\u001b[0m, in \u001b[0;36mWebDriver.find_element\u001b[0;34m(self, by, value)\u001b[0m\n\u001b[1;32m   1241\u001b[0m     by \u001b[39m=\u001b[39m By\u001b[39m.\u001b[39mCSS_SELECTOR\n\u001b[1;32m   1242\u001b[0m     value \u001b[39m=\u001b[39m \u001b[39m'\u001b[39m\u001b[39m[name=\u001b[39m\u001b[39m\"\u001b[39m\u001b[39m%s\u001b[39;00m\u001b[39m\"\u001b[39m\u001b[39m]\u001b[39m\u001b[39m'\u001b[39m \u001b[39m%\u001b[39m value\n\u001b[0;32m-> 1244\u001b[0m \u001b[39mreturn\u001b[39;00m \u001b[39mself\u001b[39;49m\u001b[39m.\u001b[39;49mexecute(Command\u001b[39m.\u001b[39;49mFIND_ELEMENT, {\n\u001b[1;32m   1245\u001b[0m     \u001b[39m'\u001b[39;49m\u001b[39musing\u001b[39;49m\u001b[39m'\u001b[39;49m: by,\n\u001b[1;32m   1246\u001b[0m     \u001b[39m'\u001b[39;49m\u001b[39mvalue\u001b[39;49m\u001b[39m'\u001b[39;49m: value})[\u001b[39m'\u001b[39m\u001b[39mvalue\u001b[39m\u001b[39m'\u001b[39m]\n",
      "File \u001b[0;32m~/miniconda3/envs/webscrape/lib/python3.10/site-packages/selenium/webdriver/remote/webdriver.py:424\u001b[0m, in \u001b[0;36mWebDriver.execute\u001b[0;34m(self, driver_command, params)\u001b[0m\n\u001b[1;32m    422\u001b[0m response \u001b[39m=\u001b[39m \u001b[39mself\u001b[39m\u001b[39m.\u001b[39mcommand_executor\u001b[39m.\u001b[39mexecute(driver_command, params)\n\u001b[1;32m    423\u001b[0m \u001b[39mif\u001b[39;00m response:\n\u001b[0;32m--> 424\u001b[0m     \u001b[39mself\u001b[39;49m\u001b[39m.\u001b[39;49merror_handler\u001b[39m.\u001b[39;49mcheck_response(response)\n\u001b[1;32m    425\u001b[0m     response[\u001b[39m'\u001b[39m\u001b[39mvalue\u001b[39m\u001b[39m'\u001b[39m] \u001b[39m=\u001b[39m \u001b[39mself\u001b[39m\u001b[39m.\u001b[39m_unwrap_value(\n\u001b[1;32m    426\u001b[0m         response\u001b[39m.\u001b[39mget(\u001b[39m'\u001b[39m\u001b[39mvalue\u001b[39m\u001b[39m'\u001b[39m, \u001b[39mNone\u001b[39;00m))\n\u001b[1;32m    427\u001b[0m     \u001b[39mreturn\u001b[39;00m response\n",
      "File \u001b[0;32m~/miniconda3/envs/webscrape/lib/python3.10/site-packages/selenium/webdriver/remote/errorhandler.py:247\u001b[0m, in \u001b[0;36mErrorHandler.check_response\u001b[0;34m(self, response)\u001b[0m\n\u001b[1;32m    245\u001b[0m         alert_text \u001b[39m=\u001b[39m value[\u001b[39m'\u001b[39m\u001b[39malert\u001b[39m\u001b[39m'\u001b[39m]\u001b[39m.\u001b[39mget(\u001b[39m'\u001b[39m\u001b[39mtext\u001b[39m\u001b[39m'\u001b[39m)\n\u001b[1;32m    246\u001b[0m     \u001b[39mraise\u001b[39;00m exception_class(message, screen, stacktrace, alert_text)  \u001b[39m# type: ignore[call-arg]  # mypy is not smart enough here\u001b[39;00m\n\u001b[0;32m--> 247\u001b[0m \u001b[39mraise\u001b[39;00m exception_class(message, screen, stacktrace)\n",
      "\u001b[0;31mWebDriverException\u001b[0m: Message: chrome not reachable\n  (Session info: chrome=105.0.5195.125)\nStacktrace:\n0   chromedriver                        0x000000010f967788 chromedriver + 4515720\n1   chromedriver                        0x000000010f8eb9d3 chromedriver + 4008403\n2   chromedriver                        0x000000010f57dfeb chromedriver + 413675\n3   chromedriver                        0x000000010f56dd92 chromedriver + 347538\n4   chromedriver                        0x000000010f55f101 chromedriver + 286977\n5   chromedriver                        0x000000010f563d4d chromedriver + 306509\n6   chromedriver                        0x000000010f568e7c chromedriver + 327292\n7   chromedriver                        0x000000010f57f6b2 chromedriver + 419506\n8   chromedriver                        0x000000010f5e5221 chromedriver + 836129\n9   chromedriver                        0x000000010f5d2603 chromedriver + 759299\n10  chromedriver                        0x000000010f5a8990 chromedriver + 588176\n11  chromedriver                        0x000000010f5a9a75 chromedriver + 592501\n12  chromedriver                        0x000000010f9376cd chromedriver + 4318925\n13  chromedriver                        0x000000010f93bf35 chromedriver + 4337461\n14  chromedriver                        0x000000010f9431ff chromedriver + 4366847\n15  chromedriver                        0x000000010f93cc5a chromedriver + 4340826\n16  chromedriver                        0x000000010f912c2c chromedriver + 4168748\n17  chromedriver                        0x000000010f9594f8 chromedriver + 4457720\n18  chromedriver                        0x000000010f959693 chromedriver + 4458131\n19  chromedriver                        0x000000010f96ea3e chromedriver + 4545086\n20  libsystem_pthread.dylib             0x00007ff81ec0f4e1 _pthread_start + 125\n21  libsystem_pthread.dylib             0x00007ff81ec0af6b thread_start + 15\n"
     ]
    }
   ],
   "source": [
    "# accept cookies\n",
    "driver.find_element(By.XPATH, \"/html/body/c-wiz/div/div/div/div[2]/div[1]/div[3]/div[1]/div[1]/form[2]/div/div/button\").click()"
   ]
  },
  {
   "cell_type": "code",
   "execution_count": 30,
   "metadata": {},
   "outputs": [
    {
     "name": "stderr",
     "output_type": "stream",
     "text": [
      "100%|██████████| 10/10 [00:01<00:00,  9.65it/s]\n"
     ]
    }
   ],
   "source": [
    "from tqdm import tqdm\n",
    "\n",
    "for i in tqdm(range(10)):\n",
    "    time.sleep(0.1)"
   ]
  },
  {
   "cell_type": "code",
   "execution_count": null,
   "metadata": {},
   "outputs": [],
   "source": [
    "def navigate_to_main_search_mask(departure=\"ZRH\",destination=\"FLR\"):\n",
    "    input_from = driver.find_element(By.XPATH, \"/html/body/c-wiz[2]/div/div[2]/c-wiz/div[1]/c-wiz/div[2]/div[1]/div[1]/div[1]/div/div[2]/div[1]/div[1]/div/div/div[1]/div/div/input\")\n",
    "    input_from.click()\n",
    "    input_w_dropdown_from = WebDriverWait(driver,5).until(EC.presence_of_element_located((By.XPATH, \"/html/body/c-wiz[2]/div/div[2]/c-wiz/div[1]/c-wiz/div[2]/div[1]/div[1]/div[1]/div/div[2]/div[1]/div[6]/div[2]/div[2]/div[1]/div/input\")))\n",
    "    input_w_dropdown_from.clear()\n",
    "    input_w_dropdown_from.send_keys(departure)\n",
    "    time.sleep(1) # load js\n",
    "    input_w_dropdown_from.send_keys(Keys.RETURN)\n",
    "\n",
    "    # entering destination\n",
    "    input_to = driver.find_element(By.XPATH, \"/html/body/c-wiz[2]/div/div[2]/c-wiz/div[1]/c-wiz/div[2]/div[1]/div[1]/div[1]/div/div[2]/div[1]/div[4]/div/div/div[1]/div/div/input\")\n",
    "    input_to.click()\n",
    "    input_w_dropdown_to = WebDriverWait(driver,5).until(EC.presence_of_element_located((By.XPATH, \"/html/body/c-wiz[2]/div/div[2]/c-wiz/div[1]/c-wiz/div[2]/div[1]/div[1]/div[1]/div/div[2]/div[1]/div[6]/div[2]/div[2]/div[1]/div/input\")))\n",
    "    input_w_dropdown_to.send_keys(destination)\n",
    "    time.sleep(1.5) # load js\n",
    "    input_w_dropdown_to.send_keys(Keys.RETURN)\n",
    "\n",
    "    # press search\n",
    "    driver.find_element(By.XPATH, \"/html/body/c-wiz[2]/div/div[2]/c-wiz/div[1]/c-wiz/div[2]/div[1]/div[1]/div[2]/div/button\").click()\n",
    "\n"
   ]
  },
  {
   "cell_type": "code",
   "execution_count": 28,
   "metadata": {},
   "outputs": [],
   "source": [
    "# get to actual search mask\n",
    "\n",
    "# entering source\n",
    "input_from = driver.find_element(By.XPATH, \"/html/body/c-wiz[2]/div/div[2]/c-wiz/div[1]/c-wiz/div[2]/div[1]/div[1]/div[1]/div/div[2]/div[1]/div[1]/div/div/div[1]/div/div/input\")\n",
    "input_from.click()\n"
   ]
  },
  {
   "cell_type": "code",
   "execution_count": 29,
   "metadata": {},
   "outputs": [],
   "source": [
    "\n",
    "\n",
    "input_w_dropdown_from = WebDriverWait(driver,5).until(EC.presence_of_element_located((By.XPATH, \"/html/body/c-wiz[2]/div/div[2]/c-wiz/div[1]/c-wiz/div[2]/div[1]/div[1]/div[1]/div/div[2]/div[1]/div[6]/div[2]/div[2]/div[1]/div/input\")))\n",
    "input_w_dropdown_from.clear()\n",
    "input_w_dropdown_from.send_keys(\"ZRH\")\n",
    "time.sleep(1) # load js\n",
    "input_w_dropdown_from.send_keys(Keys.RETURN)\n",
    "\n",
    "# entering destination\n",
    "input_to = driver.find_element(By.XPATH, \"/html/body/c-wiz[2]/div/div[2]/c-wiz/div[1]/c-wiz/div[2]/div[1]/div[1]/div[1]/div/div[2]/div[1]/div[4]/div/div/div[1]/div/div/input\")\n",
    "input_to.click()\n",
    "\n",
    "input_w_dropdown_to = WebDriverWait(driver,5).until(EC.presence_of_element_located((By.XPATH, \"/html/body/c-wiz[2]/div/div[2]/c-wiz/div[1]/c-wiz/div[2]/div[1]/div[1]/div[1]/div/div[2]/div[1]/div[6]/div[2]/div[2]/div[1]/div/input\")))\n",
    "input_w_dropdown_to.send_keys(\"FLR\")\n",
    "time.sleep(1.5) # load js\n",
    "input_w_dropdown_to.send_keys(Keys.RETURN)\n",
    "\n",
    "# press search\n",
    "driver.find_element(By.XPATH, \"/html/body/c-wiz[2]/div/div[2]/c-wiz/div[1]/c-wiz/div[2]/div[1]/div[1]/div[2]/div/button\").click()\n"
   ]
  },
  {
   "cell_type": "code",
   "execution_count": 311,
   "metadata": {},
   "outputs": [],
   "source": [
    "\n",
    "# setting the filters\n",
    "\n",
    "# stops\n",
    "driver.find_element(By.XPATH, \"/html/body/c-wiz[2]/div/div[2]/c-wiz/div[1]/c-wiz/div[2]/div[1]/div/div[4]/div/div/div[2]/div[1]/div/div[1]/span/button\").click()\n",
    "time.sleep(1)\n",
    "# only-non stop\n",
    "driver.find_element(By.XPATH, \"/html/body/c-wiz[2]/div/div[2]/c-wiz/div[1]/c-wiz/div[2]/div[1]/div/div[4]/div/div[2]/div[3]/div/div[1]/section/div[2]/div[1]/div/div/div[2]/div/input\").click()\n",
    "time.sleep(1)\n",
    "\n",
    "# times\n",
    "driver.find_element(By.XPATH, \"/html/body/c-wiz[2]/div/div[2]/c-wiz/div[1]/c-wiz/div[2]/div[1]/div/div[4]/div/div/div[2]/div[1]/div/div[5]/span/button\").click()\n",
    "# departure time\n",
    "input = driver.find_element(By.XPATH, \"/html/body/c-wiz[2]/div/div[2]/c-wiz/div[1]/c-wiz/div[2]/div[1]/div/div[4]/div/div[2]/div[3]/div/div[1]/section/div[2]/div[1]/div/div/div/div[2]/span/div/div[2]/div/div[2]/div/div/input[1]\")\n",
    "for i in range(16):\n",
    "    input.send_keys(Keys.ARROW_RIGHT)\n",
    "time.sleep(3)\n",
    "\n",
    "# return time\n",
    "driver.find_element(By.XPATH, \"/html/body/c-wiz[2]/div/div[2]/c-wiz/div[1]/c-wiz/div[2]/div[1]/div/div[4]/div/div[2]/div[3]/div/div[1]/section/div[2]/div[1]/div/div/div/div[1]/div/div/span/button[2]\").click()\n",
    "time.sleep(1)\n",
    "input = driver.find_element(By.XPATH, \"/html/body/c-wiz[2]/div/div[2]/c-wiz/div[1]/c-wiz/div[2]/div[1]/div/div[4]/div/div[2]/div[3]/div/div[1]/section/div[2]/div[1]/div/div/div/div[3]/span/div/div[2]/div/div[2]/div/div/input[1]\")\n",
    "for i in range(17):\n",
    "    input.send_keys(Keys.ARROW_RIGHT)\n",
    "input.send_keys(Keys.ESCAPE)\n"
   ]
  },
  {
   "cell_type": "code",
   "execution_count": null,
   "metadata": {},
   "outputs": [],
   "source": [
    "def get_fridays(start_date = datetime.date.today()):\n",
    "    friday = start_date + datetime.timedelta( (4-start_date.weekday()) % 7 )\n",
    "    format =\"%a, %b %d\"\n",
    "\n",
    "    fridays = [(friday.strftime(format),(friday + datetime.timedelta(2)).strftime(format))]\n",
    "\n",
    "    for week in range(24):\n",
    "        friday += datetime.timedelta(7)\n",
    "        fridays.append((friday.strftime(format),(friday+datetime.timedelta(2)).strftime(format)))\n",
    "    return fridays"
   ]
  },
  {
   "cell_type": "code",
   "execution_count": null,
   "metadata": {},
   "outputs": [],
   "source": [
    "def fetch_prices(fridays,currency_mask=\"€\"):\n",
    "    prices = {}\n",
    "    for fr, su in fridays[:3]:\n",
    "        from_time = driver.find_element(By.XPATH, \"/html/body/c-wiz[2]/div/div[2]/c-wiz/div[1]/c-wiz/div[2]/div[1]/div/div[2]/div[2]/div/div/div[1]/div/div/div[1]/div/div[1]/div/input\")\n",
    "        from_time.click()\n",
    "        time.sleep(2)\n",
    "        from_time_w_calendar = driver.find_element(By.XPATH,\"/html/body/c-wiz[2]/div/div[2]/c-wiz/div[1]/c-wiz/div[2]/div[1]/div/div[2]/div[2]/div/div/div[2]/div/div[2]/div[1]/div[1]/div[1]/div/input\")\n",
    "        print(fr)\n",
    "        from_time_w_calendar.send_keys(fr, Keys.TAB)\n",
    "        time.sleep(3)\n",
    "        to_time = driver.switch_to.active_element\n",
    "        to_time.send_keys(su)\n",
    "        time.sleep(1)\n",
    "        done_button = driver.find_element(By.XPATH,\"/html/body/c-wiz[2]/div/div[2]/c-wiz/div[1]/c-wiz/div[2]/div[1]/div/div[2]/div[2]/div/div/div[2]/div/div[3]/div[3]/div/button\")\n",
    "        done_button.click()\n",
    "        time.sleep(3)\n",
    "        li_children = driver.find_elements(By.XPATH,\"/html/body/c-wiz[2]/div/div[2]/c-wiz/div[1]/c-wiz/div[2]/div[2]/div[3]/ul/li\")\n",
    "        if len(li_children):\n",
    "            all_prices = []\n",
    "            for i in li_children:\n",
    "                # NOTE: This is for CHF - adjust for different settings, with more sophisticated reg ex matching\n",
    "                price = re.search(rf'.*?{currency_mask}(.*?)\\n.*', i.text).group(1)\n",
    "                all_prices.append(int(price))\n",
    "            prices[fr] = min(all_prices)\n",
    "    return prices"
   ]
  }
 ],
 "metadata": {
  "kernelspec": {
   "display_name": "Python 3.10.2 ('webscrape')",
   "language": "python",
   "name": "python3"
  },
  "language_info": {
   "codemirror_mode": {
    "name": "ipython",
    "version": 3
   },
   "file_extension": ".py",
   "mimetype": "text/x-python",
   "name": "python",
   "nbconvert_exporter": "python",
   "pygments_lexer": "ipython3",
   "version": "3.10.2"
  },
  "orig_nbformat": 4,
  "vscode": {
   "interpreter": {
    "hash": "8748fa3adf89563ce75e411d0790d974bab8b607f4e75f863ced887909cfd019"
   }
  }
 },
 "nbformat": 4,
 "nbformat_minor": 2
}
