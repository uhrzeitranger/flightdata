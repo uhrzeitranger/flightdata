{
 "cells": [
  {
   "cell_type": "code",
   "execution_count": 486,
   "metadata": {},
   "outputs": [],
   "source": [
    "import time\n",
    "import datetime\n",
    "import re\n",
    "from selenium import webdriver\n",
    "from selenium.webdriver.common.by import By\n",
    "from selenium.webdriver.common.keys import Keys\n",
    "driver = webdriver.Chrome(\"/Applications/chromedriver\")\n",
    "format=\"%m.%d.%y\"\n"
   ]
  },
  {
   "cell_type": "code",
   "execution_count": 487,
   "metadata": {},
   "outputs": [],
   "source": [
    "driver.get(\"https://www.google.com/travel/flights\")"
   ]
  },
  {
   "cell_type": "code",
   "execution_count": 488,
   "metadata": {},
   "outputs": [],
   "source": [
    "# accept cookies\n",
    "driver.find_element(By.XPATH, \"/html/body/c-wiz/div/div/div/div[2]/div[1]/div[3]/div[1]/div[1]/form[2]/div/div/button\").click()"
   ]
  },
  {
   "cell_type": "code",
   "execution_count": 489,
   "metadata": {},
   "outputs": [],
   "source": [
    "# get to actual search mask\n",
    "\n",
    "# entering source\n",
    "input = driver.find_element(By.XPATH, \"/html/body/c-wiz[2]/div/div[2]/c-wiz/div[1]/c-wiz/div[2]/div[1]/div[1]/div[1]/div/div[2]/div[1]/div[1]/div/div/div[1]/div/div/input\")\n",
    "input.click()\n",
    "time.sleep(2)\n",
    "input.clear()\n",
    "input.send_keys(\"ZRH\")\n",
    "time.sleep(2)\n",
    "input.send_keys(Keys.RETURN)\n",
    "time.sleep(2)\n",
    "input = driver.find_element(By.XPATH, \"/html/body/c-wiz[2]/div/div[2]/c-wiz/div[1]/c-wiz/div[2]/div[1]/div[1]/div[1]/div/div[2]/div[1]/div[6]/div[3]/ul\")\n",
    "input.click()\n",
    "\n",
    "# entering destination\n",
    "input = driver.find_element(By.XPATH, \"/html/body/c-wiz[2]/div/div[2]/c-wiz/div[1]/c-wiz/div[2]/div[1]/div[1]/div[1]/div/div[2]/div[1]/div[4]/div/div/div[1]/div/div/input\")\n",
    "input.click()\n",
    "input = driver.find_element(By.XPATH, \"/html/body/c-wiz[2]/div/div[2]/c-wiz/div[1]/c-wiz/div[2]/div[1]/div[1]/div[1]/div/div[2]/div[1]/div[6]/div[2]/div[2]/div[1]/div/input\")\n",
    "input.clear()\n",
    "input.send_keys(\"FLR\")\n",
    "time.sleep(2)\n",
    "input.send_keys(Keys.RETURN)\n",
    "\n",
    "# press search\n",
    "driver.find_element(By.XPATH, \"/html/body/c-wiz[2]/div/div[2]/c-wiz/div[1]/c-wiz/div[2]/div[1]/div[1]/div[2]/div/button\").click()\n",
    "time.sleep(3)\n"
   ]
  },
  {
   "cell_type": "code",
   "execution_count": 490,
   "metadata": {},
   "outputs": [],
   "source": [
    "\n",
    "# setting the filters\n",
    "\n",
    "# stops\n",
    "driver.find_element(By.XPATH, \"/html/body/c-wiz[2]/div/div[2]/c-wiz/div[1]/c-wiz/div[2]/div[1]/div/div[4]/div/div/div[2]/div[1]/div/div[1]/span/button\").click()\n",
    "time.sleep(1)\n",
    "# only-non stop\n",
    "driver.find_element(By.XPATH, \"/html/body/c-wiz[2]/div/div[2]/c-wiz/div[1]/c-wiz/div[2]/div[1]/div/div[4]/div/div[2]/div[3]/div/div[1]/section/div[2]/div[1]/div/div/div[2]/div/input\").click()\n",
    "time.sleep(1)\n",
    "\n",
    "# times\n",
    "driver.find_element(By.XPATH, \"/html/body/c-wiz[2]/div/div[2]/c-wiz/div[1]/c-wiz/div[2]/div[1]/div/div[4]/div/div/div[2]/div[1]/div/div[5]/span/button\").click()\n",
    "time.sleep(1)\n",
    "# departure time\n",
    "input = driver.find_element(By.XPATH, \"/html/body/c-wiz[2]/div/div[2]/c-wiz/div[1]/c-wiz/div[2]/div[1]/div/div[4]/div/div[2]/div[3]/div/div[1]/section/div[2]/div[1]/div/div/div/div[2]/span/div/div[2]/div/div[2]/div/div/input[1]\")\n",
    "for i in range(16):\n",
    "    input.send_keys(Keys.ARROW_RIGHT)\n",
    "time.sleep(5)\n",
    "\n",
    "# return time\n",
    "driver.find_element(By.XPATH, \"/html/body/c-wiz[2]/div/div[2]/c-wiz/div[1]/c-wiz/div[2]/div[1]/div/div[4]/div/div[2]/div[3]/div/div[1]/section/div[2]/div[1]/div/div/div/div[1]/div/div/span/button[2]\").click()\n",
    "time.sleep(1)\n",
    "input = driver.find_element(By.XPATH, \"/html/body/c-wiz[2]/div/div[2]/c-wiz/div[1]/c-wiz/div[2]/div[1]/div/div[4]/div/div[2]/div[3]/div/div[1]/section/div[2]/div[1]/div/div/div/div[3]/span/div/div[2]/div/div[2]/div/div/input[1]\")\n",
    "for i in range(17):\n",
    "    input.send_keys(Keys.ARROW_RIGHT)\n",
    "input.send_keys(Keys.ESCAPE)\n"
   ]
  },
  {
   "cell_type": "code",
   "execution_count": 491,
   "metadata": {},
   "outputs": [],
   "source": [
    "# entering the dates\n",
    "\n",
    "# todays date\n",
    "today = datetime.date.today()\n",
    "# date of the next friday\n",
    "friday = today + datetime.timedelta( (4-today.weekday()) % 7 )\n",
    "\n",
    "# collecting all friday to sunday combinations in the next 6 months\n",
    "fridays = [(friday.strftime(format),(friday + datetime.timedelta(2)).strftime(format))]\n",
    "for week in range(24):\n",
    "    friday += datetime.timedelta(7)\n",
    "    fridays.append((friday.strftime(format),(friday+datetime.timedelta(2)).strftime(format)))"
   ]
  },
  {
   "cell_type": "code",
   "execution_count": 494,
   "metadata": {},
   "outputs": [
    {
     "name": "stdout",
     "output_type": "stream",
     "text": [
      "09.23.22\n"
     ]
    },
    {
     "ename": "AttributeError",
     "evalue": "'NoneType' object has no attribute 'group'",
     "output_type": "error",
     "traceback": [
      "\u001b[0;31m---------------------------------------------------------------------------\u001b[0m",
      "\u001b[0;31mAttributeError\u001b[0m                            Traceback (most recent call last)",
      "\u001b[1;32m/Users/linusbenediktboll/Desktop/flightdata/test.ipynb Cell 7\u001b[0m in \u001b[0;36m<cell line: 2>\u001b[0;34m()\u001b[0m\n\u001b[1;32m     <a href='vscode-notebook-cell:/Users/linusbenediktboll/Desktop/flightdata/test.ipynb#X24sZmlsZQ%3D%3D?line=14'>15</a>\u001b[0m all_prices \u001b[39m=\u001b[39m []\n\u001b[1;32m     <a href='vscode-notebook-cell:/Users/linusbenediktboll/Desktop/flightdata/test.ipynb#X24sZmlsZQ%3D%3D?line=15'>16</a>\u001b[0m \u001b[39mfor\u001b[39;00m i \u001b[39min\u001b[39;00m li_children:\n\u001b[0;32m---> <a href='vscode-notebook-cell:/Users/linusbenediktboll/Desktop/flightdata/test.ipynb#X24sZmlsZQ%3D%3D?line=16'>17</a>\u001b[0m     price \u001b[39m=\u001b[39m re\u001b[39m.\u001b[39;49msearch(\u001b[39mr\u001b[39;49m\u001b[39m'\u001b[39;49m\u001b[39m.?\u001b[39;49m\u001b[39m\"\u001b[39;49m\u001b[39mCHF\u001b[39;49m\u001b[39m\"\u001b[39;49m\u001b[39m(.)\u001b[39;49m\u001b[39m\\\u001b[39;49m\u001b[39mn.*\u001b[39;49m\u001b[39m'\u001b[39;49m, i\u001b[39m.\u001b[39;49mtext)\u001b[39m.\u001b[39;49mgroup(\u001b[39m1\u001b[39m)\n\u001b[1;32m     <a href='vscode-notebook-cell:/Users/linusbenediktboll/Desktop/flightdata/test.ipynb#X24sZmlsZQ%3D%3D?line=17'>18</a>\u001b[0m     all_prices\u001b[39m.\u001b[39mappend(price)\n\u001b[1;32m     <a href='vscode-notebook-cell:/Users/linusbenediktboll/Desktop/flightdata/test.ipynb#X24sZmlsZQ%3D%3D?line=18'>19</a>\u001b[0m \u001b[39mprint\u001b[39m(all_prices)\n",
      "\u001b[0;31mAttributeError\u001b[0m: 'NoneType' object has no attribute 'group'"
     ]
    }
   ],
   "source": [
    "\n",
    "prices = {}\n",
    "for fr, su in fridays:\n",
    "    from_time = driver.find_element(By.XPATH, \"/html/body/c-wiz[2]/div/div[2]/c-wiz/div[1]/c-wiz/div[2]/div[1]/div/div[2]/div[2]/div/div/div[1]/div/div/div[1]/div/div[1]/div/input\")\n",
    "    from_time.click()\n",
    "    from_time_w_calendar = driver.find_element(By.XPATH,\"/html/body/c-wiz[2]/div/div[2]/c-wiz/div[1]/c-wiz/div[2]/div[1]/div/div[2]/div[2]/div/div/div[2]/div/div[2]/div[1]/div[1]/div[1]/div/input\")\n",
    "    print(fr)\n",
    "    from_time_w_calendar.send_keys(fr, Keys.TAB)\n",
    "    to_time = driver.switch_to.active_element\n",
    "    to_time.send_keys(su)\n",
    "    done_button = driver.find_element(By.XPATH,\"/html/body/c-wiz[2]/div/div[2]/c-wiz/div[1]/c-wiz/div[2]/div[1]/div/div[2]/div[2]/div/div/div[2]/div/div[3]/div[3]/div/button\")\n",
    "    done_button.click()\n",
    "    time.sleep(3)\n",
    "    li_children = driver.find_elements(By.XPATH,\"/html/body/c-wiz[2]/div/div[2]/c-wiz/div[1]/c-wiz/div[2]/div[2]/div[3]/ul/li\")\n",
    "    if len(li_children):\n",
    "        all_prices = []\n",
    "        for i in li_children:\n",
    "            price = re.search(r'.?\\€(.)\\n.*', i.text).group(1) #CURRENCY?\n",
    "            all_prices.append(price)\n",
    "        print(all_prices)\n",
    "        prices[fr] = min(all_prices)\n",
    "print(prices)"
   ]
  },
  {
   "cell_type": "code",
   "execution_count": null,
   "metadata": {},
   "outputs": [],
   "source": []
  }
 ],
 "metadata": {
  "kernelspec": {
   "display_name": "Python 3.10.4 ('flightdata')",
   "language": "python",
   "name": "python3"
  },
  "language_info": {
   "codemirror_mode": {
    "name": "ipython",
    "version": 3
   },
   "file_extension": ".py",
   "mimetype": "text/x-python",
   "name": "python",
   "nbconvert_exporter": "python",
   "pygments_lexer": "ipython3",
   "version": "3.10.4"
  },
  "orig_nbformat": 4,
  "vscode": {
   "interpreter": {
    "hash": "f7384ae4900e7aec8308d29f4bd970c95598604aaa61ee56cff03f20e34eedac"
   }
  }
 },
 "nbformat": 4,
 "nbformat_minor": 2
}
